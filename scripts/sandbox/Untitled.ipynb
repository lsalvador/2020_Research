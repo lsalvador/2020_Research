{
 "cells": [
  {
   "cell_type": "code",
   "execution_count": 2,
   "metadata": {},
   "outputs": [
    {
     "name": "stdout",
     "output_type": "stream",
     "text": [
      "MPI stands for Message passing interface. An implementation of MPI such as MPICH\"\n",
      "or OpenMPI is used to create a platform to write parallel programs in a distributed\n",
      "system such as a Linux cluster with distributed memory. Generally the platform\n",
      "built allows programming in C using the MPI standard. So in order to run Parallel programs\n",
      "in this environment in python, we need to make use of a module called MPI4py which means\n",
      "\"MPI for Python\". This module provides standard functions to do tasks such as get\n",
      "the rank of processors, send and receive messages/ data from various nodes in the clusters.\n",
      "It allows the program to be parallely executed with messages being passed between nodes.\n",
      "It is important that MPIch2 and MPI4py is installed in your system. So, if you haven't installed\n",
      "MPI4Py, following are 2 guides to refer to for installing, building and testing\n",
      "a sample program in MPI4PY.\n",
      "0\n"
     ]
    },
    {
     "ename": "Exception",
     "evalue": "Invalid rank, error stack:\nMPI_Send(159): MPI_Send(buf=0x7fa95644e8a0, count=35, MPI_BYTE, dest=1, tag=11, MPI_COMM_WORLD) failed\nMPI_Send(100): Invalid rank has value 1 but must be nonnegative and less than 1",
     "output_type": "error",
     "traceback": [
      "\u001b[0;31m---------------------------------------------------------------------------\u001b[0m",
      "\u001b[0;31mException\u001b[0m                                 Traceback (most recent call last)",
      "\u001b[0;32m<ipython-input-2-3e52ac7b9e08>\u001b[0m in \u001b[0;36m<module>\u001b[0;34m\u001b[0m\n\u001b[1;32m     20\u001b[0m \u001b[0;32mif\u001b[0m \u001b[0mrank\u001b[0m \u001b[0;34m==\u001b[0m \u001b[0;36m0\u001b[0m\u001b[0;34m:\u001b[0m\u001b[0;34m\u001b[0m\u001b[0;34m\u001b[0m\u001b[0m\n\u001b[1;32m     21\u001b[0m     \u001b[0mdata\u001b[0m \u001b[0;34m=\u001b[0m \u001b[0;34m{\u001b[0m\u001b[0;34m'a'\u001b[0m\u001b[0;34m:\u001b[0m \u001b[0;36m7\u001b[0m\u001b[0;34m,\u001b[0m \u001b[0;34m'b'\u001b[0m\u001b[0;34m:\u001b[0m \u001b[0;36m3.14\u001b[0m\u001b[0;34m}\u001b[0m\u001b[0;34m\u001b[0m\u001b[0;34m\u001b[0m\u001b[0m\n\u001b[0;32m---> 22\u001b[0;31m     \u001b[0mcomm\u001b[0m\u001b[0;34m.\u001b[0m\u001b[0msend\u001b[0m\u001b[0;34m(\u001b[0m\u001b[0mdata\u001b[0m\u001b[0;34m,\u001b[0m \u001b[0mdest\u001b[0m\u001b[0;34m=\u001b[0m\u001b[0;36m1\u001b[0m\u001b[0;34m,\u001b[0m \u001b[0mtag\u001b[0m\u001b[0;34m=\u001b[0m\u001b[0;36m11\u001b[0m\u001b[0;34m)\u001b[0m\u001b[0;34m\u001b[0m\u001b[0;34m\u001b[0m\u001b[0m\n\u001b[0m\u001b[1;32m     23\u001b[0m \u001b[0;32melif\u001b[0m \u001b[0mrank\u001b[0m \u001b[0;34m==\u001b[0m \u001b[0;36m1\u001b[0m\u001b[0;34m:\u001b[0m\u001b[0;34m\u001b[0m\u001b[0;34m\u001b[0m\u001b[0m\n\u001b[1;32m     24\u001b[0m     \u001b[0mdata\u001b[0m \u001b[0;34m=\u001b[0m \u001b[0mcomm\u001b[0m\u001b[0;34m.\u001b[0m\u001b[0mrecv\u001b[0m\u001b[0;34m(\u001b[0m\u001b[0msource\u001b[0m\u001b[0;34m=\u001b[0m\u001b[0;36m0\u001b[0m\u001b[0;34m,\u001b[0m \u001b[0mtag\u001b[0m\u001b[0;34m=\u001b[0m\u001b[0;36m11\u001b[0m\u001b[0;34m)\u001b[0m\u001b[0;34m\u001b[0m\u001b[0;34m\u001b[0m\u001b[0m\n",
      "\u001b[0;32mmpi4py/MPI/Comm.pyx\u001b[0m in \u001b[0;36mmpi4py.MPI.Comm.send\u001b[0;34m()\u001b[0m\n",
      "\u001b[0;32mmpi4py/MPI/msgpickle.pxi\u001b[0m in \u001b[0;36mmpi4py.MPI.PyMPI_send\u001b[0;34m()\u001b[0m\n",
      "\u001b[0;31mException\u001b[0m: Invalid rank, error stack:\nMPI_Send(159): MPI_Send(buf=0x7fa95644e8a0, count=35, MPI_BYTE, dest=1, tag=11, MPI_COMM_WORLD) failed\nMPI_Send(100): Invalid rank has value 1 but must be nonnegative and less than 1"
     ]
    }
   ],
   "source": [
    "#mpi4py practice\n",
    "import mpi4py \n",
    "from mpi4py import MPI\n",
    "\n",
    "print(\"\"\"MPI stands for Message passing interface. An implementation of MPI such as MPICH\"\n",
    "or OpenMPI is used to create a platform to write parallel programs in a distributed\n",
    "system such as a Linux cluster with distributed memory. Generally the platform\n",
    "built allows programming in C using the MPI standard. So in order to run Parallel programs\n",
    "in this environment in python, we need to make use of a module called MPI4py which means\n",
    "\"MPI for Python\". This module provides standard functions to do tasks such as get\n",
    "the rank of processors, send and receive messages/ data from various nodes in the clusters.\n",
    "It allows the program to be parallely executed with messages being passed between nodes.\n",
    "It is important that MPIch2 and MPI4py is installed in your system. So, if you haven't installed\n",
    "MPI4Py, following are 2 guides to refer to for installing, building and testing\n",
    "a sample program in MPI4PY.\"\"\")\n",
    "\n",
    "comm = MPI.COMM_WORLD\n",
    "rank = comm.Get_rank()\n",
    "print(rank)\n",
    "if rank == 0:\n",
    "    data = {'a': 7, 'b': 3.14}\n",
    "    comm.send(data, dest=1, tag=11)\n",
    "elif rank == 1:\n",
    "    data = comm.recv(source=0, tag=11)\n"
   ]
  },
  {
   "cell_type": "code",
   "execution_count": null,
   "metadata": {},
   "outputs": [],
   "source": []
  }
 ],
 "metadata": {
  "kernelspec": {
   "display_name": "Python 3",
   "language": "python",
   "name": "python3"
  },
  "language_info": {
   "codemirror_mode": {
    "name": "ipython",
    "version": 3
   },
   "file_extension": ".py",
   "mimetype": "text/x-python",
   "name": "python",
   "nbconvert_exporter": "python",
   "pygments_lexer": "ipython3",
   "version": "3.6.10"
  }
 },
 "nbformat": 4,
 "nbformat_minor": 2
}
